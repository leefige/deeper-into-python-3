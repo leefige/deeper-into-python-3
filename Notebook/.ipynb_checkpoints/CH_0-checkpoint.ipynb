{
 "cells": [
  {
   "cell_type": "markdown",
   "metadata": {},
   "source": [
    "[Last page](..) | [Back to index](..) | [Next page](./CH_1.html)"
   ]
  },
  {
   "cell_type": "markdown",
   "metadata": {},
   "source": [
    "\n",
    "# Deep into Python 3 Source Code\n",
    "\n",
    "\n",
    "# 0x0 Preface\n",
    "\n",
    "> 不入虎穴，焉得虎子。\n",
    ">\n",
    "> Nothing ventured, nothing gained.\n",
    ">\n",
    ">           -- Chinese proverb\n",
    "\n",
    "\n",
    "This is my first technology blog.\n",
    "\n",
    "The reason why I start this blog is that I would like to take notes about some key points and subtle designs in Python 3.7, and besides this blog will also motivate me to continue this task. In addition, I decide to use English since this is also a good opportunity for me to improve my written English on technology topics.\n",
    "\n",
    "So, let's just start here.\n"
   ]
  },
  {
   "cell_type": "markdown",
   "metadata": {},
   "source": [
    "[Last page](..) | [Back to index](..) | [Next page](./CH_1.html)"
   ]
  }
 ],
 "metadata": {
  "kernelspec": {
   "display_name": "Python 3",
   "language": "python",
   "name": "python3"
  },
  "language_info": {
   "codemirror_mode": {
    "name": "ipython",
    "version": 3
   },
   "file_extension": ".py",
   "mimetype": "text/x-python",
   "name": "python",
   "nbconvert_exporter": "python",
   "pygments_lexer": "ipython3",
   "version": "3.6.6"
  }
 },
 "nbformat": 4,
 "nbformat_minor": 2
}
