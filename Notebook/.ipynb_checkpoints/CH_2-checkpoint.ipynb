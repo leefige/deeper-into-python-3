{
 "cells": [
  {
   "cell_type": "markdown",
   "metadata": {},
   "source": [
    "[Last page](./CH_1.html) | [Back to index](..) | [Next page](./CH_3.html)"
   ]
  },
  {
   "cell_type": "markdown",
   "metadata": {},
   "source": [
    "# 0x2 Python Object\n",
    "\n",
    "> All data in a Python program is represented by objects or by relations between objects.\n",
    ">\n",
    ">                               -- The Python Language Reference\n",
    "\n",
    "## Official reference for Object\n",
    "\n",
    "To start with, I'd like just to copy & paste comments in Python source code:\n",
    "\n",
    "[Includes/object.h]\n",
    "```c\n",
    "/* Object and type object interface */\n",
    "\n",
    "/*\n",
    "Objects are structures allocated on the heap.  Special rules apply to\n",
    "the use of objects to ensure they are properly garbage-collected.\n",
    "Objects are never allocated statically or on the stack; they must be\n",
    "accessed through special macros and functions only.  (Type objects are\n",
    "exceptions to the first rule; the standard types are represented by\n",
    "statically initialized type objects, although work on type/class unification\n",
    "for Python 2.2 made it possible to have heap-allocated type objects too).\n",
    "\n",
    "An object has a 'reference count' that is increased or decreased when a\n",
    "pointer to the object is copied or deleted; when the reference count\n",
    "reaches zero there are no references to the object left and it can be\n",
    "removed from the heap.\n",
    "\n",
    "An object has a 'type' that determines what it represents and what kind\n",
    "of data it contains.  An object's type is fixed when it is created.\n",
    "Types themselves are represented as objects; an object contains a\n",
    "pointer to the corresponding type object.  The type itself has a type\n",
    "pointer pointing to the object representing the type 'type', which\n",
    "contains a pointer to itself!).\n",
    "\n",
    "Objects do not float around in memory; once allocated an object keeps\n",
    "the same size and address.  Objects that must hold variable-size data\n",
    "can contain pointers to variable-size parts of the object.  Not all\n",
    "objects of the same type have the same size; but the size cannot change\n",
    "after allocation.  (These restrictions are made so a reference to an\n",
    "object can be simply a pointer -- moving an object would require\n",
    "updating all the pointers, and changing an object's size would require\n",
    "moving it if there was another object right next to it.)\n",
    "\n",
    "Objects are always accessed through pointers of the type 'PyObject *'.\n",
    "The type 'PyObject' is a structure that only contains the reference count\n",
    "and the type pointer.  The actual memory allocated for an object\n",
    "contains other data that can only be accessed after casting the pointer\n",
    "to a pointer to a longer structure type.  This longer type must start\n",
    "with the reference count and type fields; the macro PyObject_HEAD should be\n",
    "used for this (to accommodate for future changes).  The implementation\n",
    "of a particular object type can cast the object pointer to the proper\n",
    "type and back.\n",
    "\n",
    "A standard interface exists for objects that contain an array of items\n",
    "whose size is determined when the object is allocated.\n",
    "*/\n",
    "\n",
    "```\n",
    "\n",
    "## Key points\n",
    "\n",
    "### 1. Where?\n",
    "\n",
    "Objects are structures allocated on the heap.\n",
    "\n",
    "Type objects are exceptions to the rule above; the standard types are represented by statically initialized type objects.\n",
    "\n",
    "\n",
    "### 2. Garbage collecting\n",
    "\n",
    "Special rules apply to the use of objects to ensure they are properly garbage-collected.\n",
    "\n",
    "\n",
    "### 3. PyObject & PyVarObject\n",
    "\n",
    "Firt about some essential data type definitions like `Py_ssize_t`:\n",
    "\n",
    "[Includes/pyport.h]\n",
    "```c\n",
    "/* uintptr_t is the C9X name for an unsigned integral type such that a\n",
    " * legitimate void* can be cast to uintptr_t and then back to void* again\n",
    " * without loss of information.  Similarly for intptr_t, wrt a signed\n",
    " * integral type.\n",
    " */\n",
    "typedef uintptr_t       Py_uintptr_t;\n",
    "typedef intptr_t        Py_intptr_t;\n",
    "\n",
    "/* Py_ssize_t is a signed integral type such that sizeof(Py_ssize_t) ==\n",
    " * sizeof(size_t).  C99 doesn't define such a thing directly (size_t is an\n",
    " * unsigned integral type).  See PEP 353 for details.\n",
    " */\n",
    "#ifdef HAVE_SSIZE_T\n",
    "typedef ssize_t         Py_ssize_t;\n",
    "#elif SIZEOF_VOID_P == SIZEOF_SIZE_T\n",
    "typedef Py_intptr_t     Py_ssize_t;\n",
    "#else\n",
    "#   error \"Python needs a typedef for Py_ssize_t in pyport.h.\"\n",
    "#endif\n",
    "\n",
    "```\n",
    "\n",
    "Then let's look at `PyObject` & `PyVarObject`:\n",
    "\n",
    "[Includes/object.h]\n",
    "```c\n",
    "/* Nothing is actually declared to be a PyObject, but every pointer to\n",
    " * a Python object can be cast to a PyObject*.  This is inheritance built\n",
    " * by hand.  Similarly every pointer to a variable-size Python object can,\n",
    " * in addition, be cast to PyVarObject*.\n",
    " */\n",
    "typedef struct _object {\n",
    "    _PyObject_HEAD_EXTRA  // we just ignore this section which is used only for debugging\n",
    "    Py_ssize_t ob_refcnt;\n",
    "    struct _typeobject *ob_type;\n",
    "} PyObject;\n",
    "\n",
    "typedef struct {\n",
    "    PyObject ob_base;\n",
    "    Py_ssize_t ob_size; /* Number of items in variable part */\n",
    "} PyVarObject;\n",
    "```\n",
    "\n",
    "We can see `PyObject` actually only contains 2 parts:\n",
    "\n",
    "- `ob_refcnt`: cnt for reference, and when ref == 0, this object will be released (by Garbage Collector, or GC)\n",
    "- `ob_type`: refers to the **Object** representing the **Type** of this object. See [type object](#Type-object)\n",
    "\n",
    "And `PyVarObject` includes `PyObject` as a part of it. In addition it contains `ob_size` indicating the **number** (rather than the byte size) of the basic objects it contains.\n",
    "\n",
    "For convenience, two Macros of HEAD is defined:\n",
    "\n",
    "[Includes/object.h]\n",
    "```c\n",
    "/* PyObject_HEAD defines the initial segment of every PyObject. */\n",
    "#define PyObject_HEAD                   PyObject ob_base;\n",
    "\n",
    "/* PyObject_VAR_HEAD defines the initial segment of all variable-size\n",
    " * container objects.  These end with a declaration of an array with 1\n",
    " * element, but enough space is malloc'ed so that the array actually\n",
    " * has room for ob_size elements.  Note that ob_size is an element count,\n",
    " * not necessarily a byte count.\n",
    " */\n",
    "#define PyObject_VAR_HEAD      PyVarObject ob_base;\n",
    "#define Py_INVALID_SIZE (Py_ssize_t)-1\n",
    "\n",
    "```\n",
    "\n",
    "Initialization for these two heads is like this:\n",
    "\n",
    "[Includes/object.h]\n",
    "```c\n",
    "#define PyObject_HEAD_INIT(type)        \\\n",
    "    { _PyObject_EXTRA_INIT              \\    // we just ignore \"EXTRA\"\n",
    "    1, type },\n",
    "\n",
    "#define PyVarObject_HEAD_INIT(type, size)       \\\n",
    "    { PyObject_HEAD_INIT(type) size },\n",
    "```"
   ]
  },
  {
   "cell_type": "markdown",
   "metadata": {},
   "source": [
    "## Type Object\n",
    "\n",
    "### 1. Definition\n",
    "\n",
    "Definition of `PyTypeObject` is like this:\n",
    "\n",
    "[Objects/typeobject.c]\n",
    "```c\n",
    "typedef struct _typeobject {\n",
    "    PyObject_VAR_HEAD\n",
    "    const char *tp_name; /* For printing, in format \"<module>.<name>\" */\n",
    "    Py_ssize_t tp_basicsize, tp_itemsize; /* For allocation */\n",
    "\n",
    "    /* Methods to implement standard operations */\n",
    "\n",
    "    destructor tp_dealloc;\n",
    "    printfunc tp_print;\n",
    "    getattrfunc tp_getattr;\n",
    "    setattrfunc tp_setattr;\n",
    "    PyAsyncMethods *tp_as_async; /* formerly known as tp_compare (Python 2)\n",
    "                                    or tp_reserved (Python 3) */\n",
    "    reprfunc tp_repr;\n",
    "\n",
    "    /* Method suites for standard classes */\n",
    "\n",
    "    PyNumberMethods *tp_as_number;\n",
    "    PySequenceMethods *tp_as_sequence;\n",
    "    PyMappingMethods *tp_as_mapping;\n",
    "\n",
    "    /* More standard operations (here for binary compatibility) */\n",
    "\n",
    "    hashfunc tp_hash;\n",
    "    ternaryfunc tp_call;\n",
    "    reprfunc tp_str;\n",
    "    getattrofunc tp_getattro;\n",
    "    setattrofunc tp_setattro;\n",
    "\n",
    "    /* Functions to access object as input/output buffer */\n",
    "    PyBufferProcs *tp_as_buffer;\n",
    "\n",
    "    /* Flags to define presence of optional/expanded features */\n",
    "    unsigned long tp_flags;\n",
    "\n",
    "    const char *tp_doc; /* Documentation string */\n",
    "\n",
    "    /* Assigned meaning in release 2.0 */\n",
    "    /* call function for all accessible objects */\n",
    "    traverseproc tp_traverse;\n",
    "\n",
    "    /* delete references to contained objects */\n",
    "    inquiry tp_clear;\n",
    "\n",
    "    /* Assigned meaning in release 2.1 */\n",
    "    /* rich comparisons */\n",
    "    richcmpfunc tp_richcompare;\n",
    "\n",
    "    /* weak reference enabler */\n",
    "    Py_ssize_t tp_weaklistoffset;\n",
    "\n",
    "    /* Iterators */\n",
    "    getiterfunc tp_iter;\n",
    "    iternextfunc tp_iternext;\n",
    "\n",
    "    /* Attribute descriptor and subclassing stuff */\n",
    "    struct PyMethodDef *tp_methods;\n",
    "    struct PyMemberDef *tp_members;\n",
    "    struct PyGetSetDef *tp_getset;\n",
    "    struct _typeobject *tp_base;\n",
    "    PyObject *tp_dict;\n",
    "    descrgetfunc tp_descr_get;\n",
    "    descrsetfunc tp_descr_set;\n",
    "    Py_ssize_t tp_dictoffset;\n",
    "    initproc tp_init;\n",
    "    allocfunc tp_alloc;\n",
    "    newfunc tp_new;\n",
    "    freefunc tp_free; /* Low-level free-memory routine */\n",
    "    inquiry tp_is_gc; /* For PyObject_IS_GC */\n",
    "    PyObject *tp_bases;\n",
    "    PyObject *tp_mro; /* method resolution order */\n",
    "    PyObject *tp_cache;\n",
    "    PyObject *tp_subclasses;\n",
    "    PyObject *tp_weaklist;\n",
    "    destructor tp_del;\n",
    "\n",
    "    /* Type attribute cache version tag. Added in version 2.6 */\n",
    "    unsigned int tp_version_tag;\n",
    "\n",
    "    destructor tp_finalize;\n",
    "\n",
    "#ifdef COUNT_ALLOCS\n",
    "    /* these must be last and never explicitly initialized */\n",
    "    Py_ssize_t tp_allocs;\n",
    "    Py_ssize_t tp_frees;\n",
    "    Py_ssize_t tp_maxalloc;\n",
    "    struct _typeobject *tp_prev;\n",
    "    struct _typeobject *tp_next;\n",
    "#endif\n",
    "} PyTypeObject;\n",
    "```\n",
    "\n",
    "### 2. Explanation\n",
    "\n",
    "Type is also an **object**. It has `PyObject_VAR_HEAD`.\n",
    "\n",
    "It defines *type name*, as well as *methods* that restrains the behaviors of objects of this type, like how to \"new\" an object and how to initialize it.\n",
    "\n",
    "Types can be grouped into three groups (number, sequence, mapping) by following methods:\n",
    "\n",
    "```c\n",
    "    /* Method suites for standard classes */\n",
    "\n",
    "    PyNumberMethods *tp_as_number;\n",
    "    PySequenceMethods *tp_as_sequence;\n",
    "    PyMappingMethods *tp_as_mapping;\n",
    "```\n",
    "\n",
    "Actually, a type can own all three kind of methods.\n",
    "\n",
    "Type objects for standard built-in types are statically initialized in memory when Python interpreter launches.\n",
    "\n",
    "#### A few more about methods\n",
    "\n",
    "Have a look at some methods' declarations:\n",
    "\n",
    "[Includes/object.h]\n",
    "```c\n",
    "/*\n",
    "Type objects contain a string containing the type name (to help somewhat\n",
    "in debugging), the allocation parameters (see PyObject_New() and\n",
    "PyObject_NewVar()),\n",
    "and methods for accessing objects of the type.  Methods are optional, a\n",
    "nil pointer meaning that particular kind of access is not available for\n",
    "this type.  The Py_DECREF() macro uses the tp_dealloc method without\n",
    "checking for a nil pointer; it should always be implemented except if\n",
    "the implementation can guarantee that the reference count will never\n",
    "reach zero (e.g., for statically allocated type objects).\n",
    "\n",
    "NB: the methods for certain type groups are now contained in separate\n",
    "method blocks.\n",
    "*/\n",
    "\n",
    "typedef PyObject * (*unaryfunc)(PyObject *);\n",
    "typedef PyObject * (*binaryfunc)(PyObject *, PyObject *);\n",
    "typedef PyObject * (*ternaryfunc)(PyObject *, PyObject *, PyObject *);\n",
    "typedef int (*inquiry)(PyObject *);\n",
    "typedef Py_ssize_t (*lenfunc)(PyObject *);\n",
    "typedef PyObject *(*ssizeargfunc)(PyObject *, Py_ssize_t);\n",
    "typedef PyObject *(*ssizessizeargfunc)(PyObject *, Py_ssize_t, Py_ssize_t);\n",
    "typedef int(*ssizeobjargproc)(PyObject *, Py_ssize_t, PyObject *);\n",
    "typedef int(*ssizessizeobjargproc)(PyObject *, Py_ssize_t, Py_ssize_t, PyObject *);\n",
    "typedef int(*objobjargproc)(PyObject *, PyObject *, PyObject *);\n",
    "```\n",
    "\n",
    "In the beginning I was wondering about the usage of `typedef`. In fact here `typedef` is used for function pointers. For example, \n",
    "\n",
    "```c\n",
    "typedef PyObject * (*unaryfunc)(PyObject *);\n",
    "```\n",
    "\n",
    "means you define the function pointer with `RET: PyObject *, PARA: PyObject *` as type `unaryfunc`. Then every time when you need to declare or define a funtion for unary operation, you can just use `unaryfunc some_func;`. Here is an example of such usage:\n",
    "\n",
    "[Includes/object.h]\n",
    "```c\n",
    "typedef struct {\n",
    "    /* Number implementations must check *both*\n",
    "       arguments for proper type and implement the necessary conversions\n",
    "       in the slot functions themselves. */\n",
    "    ...\n",
    "    unaryfunc nb_negative;\n",
    "    unaryfunc nb_positive;\n",
    "    unaryfunc nb_absolute;\n",
    "    ...\n",
    "} PyNumberMethods;\n",
    "```\n"
   ]
  },
  {
   "cell_type": "markdown",
   "metadata": {},
   "source": [
    "### 3. Type of objects:\n",
    "\n",
    "Let's see some results:"
   ]
  },
  {
   "cell_type": "code",
   "execution_count": 1,
   "metadata": {},
   "outputs": [
    {
     "data": {
      "text/plain": [
       "int"
      ]
     },
     "execution_count": 1,
     "metadata": {},
     "output_type": "execute_result"
    }
   ],
   "source": [
    "a = int()\n",
    "a.__class__"
   ]
  },
  {
   "cell_type": "code",
   "execution_count": 2,
   "metadata": {},
   "outputs": [
    {
     "data": {
      "text/plain": [
       "type"
      ]
     },
     "execution_count": 2,
     "metadata": {},
     "output_type": "execute_result"
    }
   ],
   "source": [
    "int.__class__"
   ]
  },
  {
   "cell_type": "code",
   "execution_count": 3,
   "metadata": {},
   "outputs": [
    {
     "data": {
      "text/plain": [
       "type"
      ]
     },
     "execution_count": 3,
     "metadata": {},
     "output_type": "execute_result"
    }
   ],
   "source": [
    "object.__class__"
   ]
  },
  {
   "cell_type": "code",
   "execution_count": 4,
   "metadata": {},
   "outputs": [
    {
     "data": {
      "text/plain": [
       "type"
      ]
     },
     "execution_count": 4,
     "metadata": {},
     "output_type": "execute_result"
    }
   ],
   "source": [
    "type.__class__"
   ]
  },
  {
   "cell_type": "markdown",
   "metadata": {},
   "source": [
    "We can see that every object has its *type* (or *class*), and *type* of Type Object is `type`.\n",
    "\n",
    "So what is `type`? Is it an object?\n",
    "\n",
    "The answer is yes. The type of all PyTypeObject is `PyType_Type`, which means \"the Type of all 'Type'\".\n",
    "\n",
    "[Object/typeobject.c]\n",
    "```c\n",
    "PyTypeObject PyType_Type = {\n",
    "    PyVarObject_HEAD_INIT(&PyType_Type, 0)\n",
    "    \"type\",                                     /* tp_name */\n",
    "    sizeof(PyHeapTypeObject),                   /* tp_basicsize */\n",
    "    sizeof(PyMemberDef),                        /* tp_itemsize */\n",
    "    (destructor)type_dealloc,                   /* tp_dealloc */\n",
    "    0,                                          /* tp_print */\n",
    "    0,                                          /* tp_getattr */\n",
    "    0,                                          /* tp_setattr */\n",
    "    0,                                          /* tp_reserved */\n",
    "    (reprfunc)type_repr,                        /* tp_repr */\n",
    "    0,                                          /* tp_as_number */\n",
    "    0,                                          /* tp_as_sequence */\n",
    "    0,                                          /* tp_as_mapping */\n",
    "    0,                                          /* tp_hash */\n",
    "    (ternaryfunc)type_call,                     /* tp_call */\n",
    "    0,                                          /* tp_str */\n",
    "    (getattrofunc)type_getattro,                /* tp_getattro */\n",
    "    (setattrofunc)type_setattro,                /* tp_setattro */\n",
    "    0,                                          /* tp_as_buffer */\n",
    "    Py_TPFLAGS_DEFAULT | Py_TPFLAGS_HAVE_GC |\n",
    "        Py_TPFLAGS_BASETYPE | Py_TPFLAGS_TYPE_SUBCLASS,         /* tp_flags */\n",
    "    type_doc,                                   /* tp_doc */\n",
    "    (traverseproc)type_traverse,                /* tp_traverse */\n",
    "    (inquiry)type_clear,                        /* tp_clear */\n",
    "    0,                                          /* tp_richcompare */\n",
    "    offsetof(PyTypeObject, tp_weaklist),        /* tp_weaklistoffset */\n",
    "    0,                                          /* tp_iter */\n",
    "    0,                                          /* tp_iternext */\n",
    "    type_methods,                               /* tp_methods */\n",
    "    type_members,                               /* tp_members */\n",
    "    type_getsets,                               /* tp_getset */\n",
    "    0,                                          /* tp_base */\n",
    "    0,                                          /* tp_dict */\n",
    "    0,                                          /* tp_descr_get */\n",
    "    0,                                          /* tp_descr_set */\n",
    "    offsetof(PyTypeObject, tp_dict),            /* tp_dictoffset */\n",
    "    type_init,                                  /* tp_init */\n",
    "    0,                                          /* tp_alloc */\n",
    "    type_new,                                   /* tp_new */\n",
    "    PyObject_GC_Del,                            /* tp_free */\n",
    "    (inquiry)type_is_gc,                        /* tp_is_gc */\n",
    "};\n",
    "```\n",
    "\n",
    "Notice this:\n",
    "\n",
    "```c\n",
    "PyTypeObject PyType_Type = {\n",
    "    PyVarObject_HEAD_INIT(&PyType_Type, 0)\n",
    "    \"type\",                                     /* tp_name */\n",
    "```\n",
    "\n",
    "The `type` arg for `PyVarObject_HEAD_INIT` here is `&PyType_Type` itself! It points to itself when you want to get the Type of PyType_Type.\n",
    "\n",
    "To compare, let's look at `PyLong_Type`:\n",
    "\n",
    "```c\n",
    "PyTypeObject PyLong_Type = {\n",
    "    PyVarObject_HEAD_INIT(&PyType_Type, 0)\n",
    "    \"int\",                                      /* tp_name */\n",
    "```\n",
    "\n",
    "We can see that an ordinary type object just points to `&PyType_Type` as its type."
   ]
  },
  {
   "cell_type": "markdown",
   "metadata": {},
   "source": [
    "## *Base* of Type Object\n",
    "\n",
    "In Java, every object has its *base*, except some built-in type like `int` (though `Integer` has the base `Object`). In Python, however, instance (or, object) of built-in type does **NOT** have base. Similarly instance of user-defined class also has no base.\n",
    "\n",
    "Rather, the built-in Type Objects and user-defined Classes (yet another Type Object) have base, and their base is `PyBaseObject_Type`\n",
    "\n",
    "[Object/typeobject.c]\n",
    "```c\n",
    "PyTypeObject PyBaseObject_Type = {\n",
    "    PyVarObject_HEAD_INIT(&PyType_Type, 0)\n",
    "    \"object\",                                   /* tp_name */\n",
    "    sizeof(PyObject),                           /* tp_basicsize */\n",
    "    ...\n",
    "};\n",
    "```\n",
    "\n",
    "One interesting thing is, `PyBaseObject_Type` has no base. Let's see some examples:\n",
    "\n",
    "#### Built-in class like `int`"
   ]
  },
  {
   "cell_type": "code",
   "execution_count": 5,
   "metadata": {},
   "outputs": [
    {
     "ename": "AttributeError",
     "evalue": "'int' object has no attribute '__base__'",
     "output_type": "error",
     "traceback": [
      "\u001b[1;31m---------------------------------------------------------------------------\u001b[0m",
      "\u001b[1;31mAttributeError\u001b[0m                            Traceback (most recent call last)",
      "\u001b[1;32m<ipython-input-5-850c408fbb15>\u001b[0m in \u001b[0;36m<module>\u001b[1;34m\u001b[0m\n\u001b[0;32m      1\u001b[0m \u001b[0ma\u001b[0m \u001b[1;33m=\u001b[0m \u001b[0mint\u001b[0m\u001b[1;33m(\u001b[0m\u001b[1;33m)\u001b[0m\u001b[1;33m\u001b[0m\u001b[0m\n\u001b[1;32m----> 2\u001b[1;33m \u001b[0ma\u001b[0m\u001b[1;33m.\u001b[0m\u001b[0m__base__\u001b[0m\u001b[1;33m\u001b[0m\u001b[0m\n\u001b[0m",
      "\u001b[1;31mAttributeError\u001b[0m: 'int' object has no attribute '__base__'"
     ]
    }
   ],
   "source": [
    "a = int()\n",
    "a.__base__"
   ]
  },
  {
   "cell_type": "code",
   "execution_count": 6,
   "metadata": {},
   "outputs": [
    {
     "data": {
      "text/plain": [
       "object"
      ]
     },
     "execution_count": 6,
     "metadata": {},
     "output_type": "execute_result"
    }
   ],
   "source": [
    "int.__base__"
   ]
  },
  {
   "cell_type": "markdown",
   "metadata": {},
   "source": [
    "#### User-defined class\n",
    "\n",
    "If I define a class `A`："
   ]
  },
  {
   "cell_type": "code",
   "execution_count": 7,
   "metadata": {},
   "outputs": [
    {
     "data": {
      "text/plain": [
       "object"
      ]
     },
     "execution_count": 7,
     "metadata": {},
     "output_type": "execute_result"
    }
   ],
   "source": [
    "class A:\n",
    "    a = 0\n",
    "\n",
    "A.__base__"
   ]
  },
  {
   "cell_type": "code",
   "execution_count": 8,
   "metadata": {},
   "outputs": [
    {
     "data": {
      "text/plain": [
       "__main__.A"
      ]
     },
     "execution_count": 8,
     "metadata": {},
     "output_type": "execute_result"
    }
   ],
   "source": [
    "aa = A()\n",
    "aa.__class__"
   ]
  },
  {
   "cell_type": "code",
   "execution_count": 9,
   "metadata": {},
   "outputs": [
    {
     "ename": "AttributeError",
     "evalue": "'A' object has no attribute '__base__'",
     "output_type": "error",
     "traceback": [
      "\u001b[1;31m---------------------------------------------------------------------------\u001b[0m",
      "\u001b[1;31mAttributeError\u001b[0m                            Traceback (most recent call last)",
      "\u001b[1;32m<ipython-input-9-dc2a6b82957d>\u001b[0m in \u001b[0;36m<module>\u001b[1;34m\u001b[0m\n\u001b[1;32m----> 1\u001b[1;33m \u001b[0maa\u001b[0m\u001b[1;33m.\u001b[0m\u001b[0m__base__\u001b[0m\u001b[1;33m\u001b[0m\u001b[0m\n\u001b[0m",
      "\u001b[1;31mAttributeError\u001b[0m: 'A' object has no attribute '__base__'"
     ]
    }
   ],
   "source": [
    "aa.__base__"
   ]
  },
  {
   "cell_type": "markdown",
   "metadata": {},
   "source": [
    "#### Derived class\n",
    "\n",
    "But what if I define class `B` derived from `A`?"
   ]
  },
  {
   "cell_type": "code",
   "execution_count": 10,
   "metadata": {},
   "outputs": [
    {
     "data": {
      "text/plain": [
       "__main__.A"
      ]
     },
     "execution_count": 10,
     "metadata": {},
     "output_type": "execute_result"
    }
   ],
   "source": [
    "class B(A):\n",
    "    b = 1\n",
    "\n",
    "B.__base__"
   ]
  },
  {
   "cell_type": "code",
   "execution_count": 11,
   "metadata": {},
   "outputs": [
    {
     "data": {
      "text/plain": [
       "__main__.B"
      ]
     },
     "execution_count": 11,
     "metadata": {},
     "output_type": "execute_result"
    }
   ],
   "source": [
    "bb = B()\n",
    "bb.__class__"
   ]
  },
  {
   "cell_type": "code",
   "execution_count": 12,
   "metadata": {},
   "outputs": [
    {
     "ename": "AttributeError",
     "evalue": "'B' object has no attribute '__base__'",
     "output_type": "error",
     "traceback": [
      "\u001b[1;31m---------------------------------------------------------------------------\u001b[0m",
      "\u001b[1;31mAttributeError\u001b[0m                            Traceback (most recent call last)",
      "\u001b[1;32m<ipython-input-12-598fb1c95700>\u001b[0m in \u001b[0;36m<module>\u001b[1;34m\u001b[0m\n\u001b[1;32m----> 1\u001b[1;33m \u001b[0mbb\u001b[0m\u001b[1;33m.\u001b[0m\u001b[0m__base__\u001b[0m\u001b[1;33m\u001b[0m\u001b[0m\n\u001b[0m",
      "\u001b[1;31mAttributeError\u001b[0m: 'B' object has no attribute '__base__'"
     ]
    }
   ],
   "source": [
    "bb.__base__"
   ]
  },
  {
   "cell_type": "markdown",
   "metadata": {},
   "source": [
    "#### Type Object\n",
    "\n",
    "And how about bases of Type Objects?"
   ]
  },
  {
   "cell_type": "code",
   "execution_count": 13,
   "metadata": {},
   "outputs": [
    {
     "data": {
      "text/plain": [
       "object"
      ]
     },
     "execution_count": 13,
     "metadata": {},
     "output_type": "execute_result"
    }
   ],
   "source": [
    "int.__base__"
   ]
  },
  {
   "cell_type": "code",
   "execution_count": 14,
   "metadata": {},
   "outputs": [
    {
     "data": {
      "text/plain": [
       "object"
      ]
     },
     "execution_count": 14,
     "metadata": {},
     "output_type": "execute_result"
    }
   ],
   "source": [
    "A.__base__"
   ]
  },
  {
   "cell_type": "code",
   "execution_count": 15,
   "metadata": {},
   "outputs": [
    {
     "data": {
      "text/plain": [
       "object"
      ]
     },
     "execution_count": 15,
     "metadata": {},
     "output_type": "execute_result"
    }
   ],
   "source": [
    "type.__base__"
   ]
  },
  {
   "cell_type": "code",
   "execution_count": 16,
   "metadata": {},
   "outputs": [],
   "source": [
    "object.__base__"
   ]
  },
  {
   "cell_type": "markdown",
   "metadata": {},
   "source": [
    "What is the OUTPUT of the code above? It's just nothing! To be more precise, let's run following code:"
   ]
  },
  {
   "cell_type": "code",
   "execution_count": 17,
   "metadata": {},
   "outputs": [
    {
     "name": "stdout",
     "output_type": "stream",
     "text": [
      "None\n"
     ]
    }
   ],
   "source": [
    "print(object.__base__)"
   ]
  },
  {
   "cell_type": "markdown",
   "metadata": {},
   "source": [
    "It says \"None\". `object`, or `PyBaseObject_Type` in CPython, is the base for all Type Object, but it uses `None` as the base of itself.\n",
    "\n",
    "To conclude, every *class* or *type*, either built-in or user-defined, means a Type Object in CPython. Type Objects all have the same *base*, `object` in Python or `PyBaseObject_Type` in CPython. However, `object` itself has a *base* `None` (**Notice**: \"*base* is `None`\" doesn't equal to \"doesn't have a *base*\" -- if an object has no base, interpreter will throw an Error if you try to get its `__base__` attribute)."
   ]
  },
  {
   "cell_type": "markdown",
   "metadata": {},
   "source": [
    "## Super?\n",
    "\n",
    "Actually there is another special built-in Type `super` or `PySuper_Type`. However, I'm not going to talk about it at present. Maybe we'll meet it again in some future chaper.\n",
    "\n",
    "But just remember: `super` in Python is just a special type instead of the *base* class of a certain class."
   ]
  },
  {
   "cell_type": "markdown",
   "metadata": {},
   "source": [
    "[Last page](./CH_1.html) | [Back to index](..) | [Next page](./CH_3.html)"
   ]
  }
 ],
 "metadata": {
  "kernelspec": {
   "display_name": "Python 3",
   "language": "python",
   "name": "python3"
  },
  "language_info": {
   "codemirror_mode": {
    "name": "ipython",
    "version": 3
   },
   "file_extension": ".py",
   "mimetype": "text/x-python",
   "name": "python",
   "nbconvert_exporter": "python",
   "pygments_lexer": "ipython3",
   "version": "3.6.6"
  }
 },
 "nbformat": 4,
 "nbformat_minor": 2
}
