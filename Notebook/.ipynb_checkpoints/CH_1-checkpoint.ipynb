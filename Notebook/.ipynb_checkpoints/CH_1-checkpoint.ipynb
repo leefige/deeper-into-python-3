{
 "cells": [
  {
   "cell_type": "markdown",
   "metadata": {},
   "source": [
    "[Last page](./CH_0.html) | [Back to index](..) | [Next page](./CH_2.html)"
   ]
  },
  {
   "cell_type": "markdown",
   "metadata": {},
   "source": [
    "# 0x1 Python Source Code Structure\n",
    "\n",
    "> 知己知彼，百战不殆。\n",
    ">\n",
    "> Know the enemy and know yourself, and you can fight a hundred battles with no danger of defeat. \n",
    ">\n",
    ">                                                        -- Chinese proverb\n",
    "\n",
    "## CPython\n",
    "\n",
    "Python is an interpreted high-level programming language for general-purpose programming. [\\[wikipedia\\]](https://en.wikipedia.org/wiki/Python_(programming_language)) Since Python is a dynamic script language, Python scripts rely on Pyhton interpreter to run. On the contrary, compiled languages like C/C++ directly run on target machines. \n",
    "\n",
    "So the question is, how does interpreter work? Actually interpreter runs on the target machines directly just like any compiled and linked executive programs. And Python scripts run inside the interpreter, during which time interpreter translate the scripts into some intermediate language codes, execute these codes, allocate memory of the host machine, and get input from / set output to the host machine.\n",
    "\n",
    "Now we can conclude that implementing Python is implementing Python interpreter to some extent. In fact Python interpreter is implemented with C, a quite classic but powerful language. And topics related to implementing Python with C is called *\"CPython\"*.\n",
    "\n",
    "Still there are some alternative implementation of Python, and please refer to [\\[Alternate Implementations\\]](https://docs.python.org/3/reference/introduction.html#alternate-implementations)\n"
   ]
  },
  {
   "cell_type": "markdown",
   "metadata": {},
   "source": [
    "## Python Source Code\n",
    "\n",
    "Assume you have already downloaded the Python source code from [Python.org](https://www.python.org/). Let's take look at the dir tree of it:\n",
    "\n",
    "```txt\n",
    "+---Doc\n",
    "+---Grammar\n",
    "+---Include\n",
    "|   \\---internal\n",
    "+---Lib\n",
    "+---m4\n",
    "+---Mac\n",
    "+---Misc\n",
    "+---Modules\n",
    "+---Objects\n",
    "|   +---clinic\n",
    "|   \\---stringlib\n",
    "+---Parser\n",
    "+---PC\n",
    "+---PCbuild\n",
    "+---Programs\n",
    "+---Python\n",
    "|   \\---clinic\n",
    "\\---Tools\n",
    "```\n",
    "\n",
    "Folders like `Mac` and `PC` are intended to help make and install on corresponding target machines. `Grammar` clarify the grammar of Python language, and `Parser` contains some tool for scanning and parsing Python scripts. `Doc` includes documentations for Python. `Lib` is where we can find all the STD LIBs of Python which are coded in Python, while `Modules` contains modules coded in C, which enables these modules to be executed faster.\n",
    "\n",
    "In this blog we will focus mainly on core part of Python and its interpreter, so the folders we concern are `Include` which contains `.h` files, `Objects` which contains all the built-in objects as well as internal objects, and `Python` which implements the core compiler and executing engine of Python.\n",
    "\n",
    "Among these folders we can also see `clinic`, which has following aims:\n",
    "\n",
    "> Argument Clinic is a preprocessor for CPython C files. Its purpose is to automate all the boilerplate involved with writing argument parsing code for “builtins”. This document shows you how to convert your first C function to work with Argument Clinic, and then introduces some advanced topics on Argument Clinic usage. [\\[Argument Clinic How-To\\]](https://docs.python.org/3/howto/clinic.html)\n"
   ]
  },
  {
   "cell_type": "markdown",
   "metadata": {},
   "source": [
    "[Last page](./CH_0.html) | [Back to index](..) | [Next page](./CH_2.html)"
   ]
  }
 ],
 "metadata": {
  "kernelspec": {
   "display_name": "Python 3",
   "language": "python",
   "name": "python3"
  },
  "language_info": {
   "codemirror_mode": {
    "name": "ipython",
    "version": 3
   },
   "file_extension": ".py",
   "mimetype": "text/x-python",
   "name": "python",
   "nbconvert_exporter": "python",
   "pygments_lexer": "ipython3",
   "version": "3.6.6"
  }
 },
 "nbformat": 4,
 "nbformat_minor": 2
}
